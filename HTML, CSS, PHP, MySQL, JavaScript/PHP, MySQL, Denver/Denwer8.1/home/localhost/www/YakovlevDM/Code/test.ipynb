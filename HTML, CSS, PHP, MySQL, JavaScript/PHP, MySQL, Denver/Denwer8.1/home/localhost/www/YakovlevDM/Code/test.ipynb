{
 "cells": [
  {
   "cell_type": "code",
   "execution_count": 2,
   "metadata": {},
   "outputs": [
    {
     "ename": "ValueError",
     "evalue": "invalid literal for int() with base 10: ''",
     "output_type": "error",
     "traceback": [
      "\u001b[1;31m---------------------------------------------------------------------------\u001b[0m",
      "\u001b[1;31mValueError\u001b[0m                                Traceback (most recent call last)",
      "Cell \u001b[1;32mIn[2], line 13\u001b[0m\n\u001b[0;32m     10\u001b[0m \t\t\t\u001b[38;5;28;01mreturn\u001b[39;00m \u001b[38;5;28;01mTrue\u001b[39;00m\n\u001b[0;32m     11\u001b[0m \t\u001b[38;5;28;01mreturn\u001b[39;00m \u001b[38;5;28;01mFalse\u001b[39;00m\n\u001b[1;32m---> 13\u001b[0m n \u001b[38;5;241m=\u001b[39m \u001b[38;5;28;43mint\u001b[39;49m\u001b[43m(\u001b[49m\u001b[38;5;28;43minput\u001b[39;49m\u001b[43m(\u001b[49m\u001b[38;5;241;43m250\u001b[39;49m\u001b[43m)\u001b[49m\u001b[43m)\u001b[49m\n\u001b[0;32m     14\u001b[0m aPtr\u001b[38;5;241m=\u001b[39m[\u001b[38;5;241m0\u001b[39m]\n\u001b[0;32m     15\u001b[0m bPtr\u001b[38;5;241m=\u001b[39m[\u001b[38;5;241m0\u001b[39m]\n",
      "\u001b[1;31mValueError\u001b[0m: invalid literal for int() with base 10: ''"
     ]
    }
   ],
   "source": [
    "import math\n",
    "\n",
    "def FindTwoSquares(n, aPtr, bPtr):\n",
    "\tfor a in range(int(math.sqrt(n))+1):\n",
    "\t\tbSq = n - a*a\n",
    "\t\tb = int(math.sqrt(bSq))\n",
    "\t\tif(b*b==bSq):\n",
    "\t\t\taPtr[0]=a\n",
    "\t\t\tbPtr[0]=b\n",
    "\t\t\treturn True\n",
    "\treturn False\n",
    "\n",
    "n = int(input())\n",
    "aPtr=[0]\n",
    "bPtr=[0]\n",
    "\n",
    "if FindTwoSquares(n, aPtr, bPtr):\n",
    "\ta,b = sorted([aPtr[0], bPtr[0]])\n",
    "\tprint(f\"{a} {b}\")\n",
    "else:\n",
    "\tprint(\"NO\")"
   ]
  }
 ],
 "metadata": {
  "kernelspec": {
   "display_name": "Python 3",
   "language": "python",
   "name": "python3"
  },
  "language_info": {
   "codemirror_mode": {
    "name": "ipython",
    "version": 3
   },
   "file_extension": ".py",
   "mimetype": "text/x-python",
   "name": "python",
   "nbconvert_exporter": "python",
   "pygments_lexer": "ipython3",
   "version": "3.11.9"
  }
 },
 "nbformat": 4,
 "nbformat_minor": 2
}
