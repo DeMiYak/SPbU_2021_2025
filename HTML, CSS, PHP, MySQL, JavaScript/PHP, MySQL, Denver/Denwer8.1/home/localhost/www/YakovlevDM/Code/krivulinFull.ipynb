{
 "cells": [
  {
   "cell_type": "code",
   "execution_count": 1,
   "metadata": {},
   "outputs": [],
   "source": [
    "import sympy as sp\n",
    "import numpy as np\n",
    "from sympy import Matrix"
   ]
  },
  {
   "cell_type": "code",
   "execution_count": 3,
   "metadata": {},
   "outputs": [],
   "source": [
    "def max_algebra_multiply_symbolic(A, B, sym_val_dict):\n",
    "    rows_A, cols_A = A.shape\n",
    "    rows_B, cols_B = B.shape\n",
    "    if cols_A != rows_B:\n",
    "        raise ValueError(\"Matrices are not compatible for multiplication\")\n",
    "    C = Matrix.zeros(rows_A, cols_B)\n",
    "    \n",
    "    for i in range(rows_A):\n",
    "        for j in range(cols_B):\n",
    "            max_val = -float('inf')\n",
    "            max_expression = None\n",
    "            for k in range(cols_A):\n",
    "                cur_val = (A[i,k] * B[k,j]).subs(sym_val_dict)\n",
    "                    \n",
    "                if cur_val > max_val:\n",
    "                    max_val = cur_val\n",
    "                    max_expression = A[i,k] * B[k,j]\n",
    "\n",
    "            C[i,j] = max_expression\n",
    "\n",
    "    return C"
   ]
  },
  {
   "cell_type": "code",
   "execution_count": 4,
   "metadata": {},
   "outputs": [],
   "source": [
    "def max_matrix_power_symbolic(C, k, sym_val_dict):\n",
    "    if k == 0:\n",
    "        return Matrix.eye(C.shape[0])\n",
    "    elif k == 1:\n",
    "        return C\n",
    "    else:\n",
    "        result = C\n",
    "        for _ in range(k - 1):\n",
    "            result = max_algebra_multiply_symbolic(result, C, sym_val_dict)\n",
    "        return result"
   ]
  },
  {
   "cell_type": "code",
   "execution_count": 5,
   "metadata": {},
   "outputs": [],
   "source": [
    "def max_algebra_addition_symbolic(matrices, sym_val_dict): \n",
    "    \n",
    "    shape = matrices[0].shape\n",
    "    result = Matrix.zeros(shape[0], shape[1])\n",
    "    \n",
    "    for i in range(shape[0]):\n",
    "        for j in range(shape[1]):\n",
    "            max_value = -np.inf\n",
    "            for matrix in matrices:\n",
    "                matrix_ij_val = matrix[i, j].subs(sym_val_dict)\n",
    "                if matrix_ij_val > max_value:\n",
    "                    max_value = matrix_ij_val\n",
    "                    result[i, j] = matrix[i, j]\n",
    "    \n",
    "    return result"
   ]
  },
  {
   "cell_type": "code",
   "execution_count": 5,
   "metadata": {},
   "outputs": [],
   "source": [
    "def trace_symbolic(C, sym_val_dict):\n",
    "    diagonal_elements = Matrix.diagonal(C)\n",
    "    max_value = -np.inf\n",
    "    for el in diagonal_elements:\n",
    "        el_num = el.subs(sym_val_dict)\n",
    "        if el_num > max_value:\n",
    "            max_value = el_num\n",
    "            max_element = el\n",
    "    return max_element"
   ]
  },
  {
   "cell_type": "code",
   "execution_count": 6,
   "metadata": {},
   "outputs": [],
   "source": [
    "def spectral_radius_symbolic(C, sym_val_dict):\n",
    "    k = C.shape[0]\n",
    "    temp = C\n",
    "    max_value = -np.inf\n",
    "    max_expression = None\n",
    "    for i in range(1, k + 1):\n",
    "        tr = trace_symbolic(temp, sym_val_dict) ** sp.Rational(1, i)\n",
    "        num_tr = tr.subs(sym_val_dict)\n",
    "        temp = max_algebra_multiply_symbolic(temp, C, sym_val_dict)\n",
    "        if num_tr > max_value:\n",
    "            max_value = num_tr\n",
    "            max_expression = tr\n",
    "    return max_expression"
   ]
  },
  {
   "cell_type": "code",
   "execution_count": 7,
   "metadata": {},
   "outputs": [],
   "source": [
    "def klini_symbolic(C, sym_val_dict):\n",
    "    r = list(sym_val_dict.keys())[-1]\n",
    "    k = C.shape[0]\n",
    "    tmp = Matrix.eye(k)\n",
    "    matrices = [Matrix.eye(k)]\n",
    "    for i in range(1, k):\n",
    "        matrices.append(r**(-i)*max_algebra_multiply_symbolic(tmp, C, sym_val_dict))\n",
    "        tmp = max_algebra_multiply_symbolic(tmp, C, sym_val_dict)\n",
    "    return max_algebra_addition_symbolic(matrices, sym_val_dict)"
   ]
  },
  {
   "cell_type": "code",
   "execution_count": null,
   "metadata": {},
   "outputs": [],
   "source": [
    "# Выше - часть с лог-чебышёвской аппроксимацией"
   ]
  },
  {
   "cell_type": "code",
   "execution_count": 8,
   "metadata": {},
   "outputs": [],
   "source": [
    "def saati_method(A, epsilon = 1e-9, max_iterations=1000):\n",
    "\n",
    "        n = A.shape[0]\n",
    "\n",
    "        x = sp.Matrix([1 for _ in range(n)])\n",
    "        x_prev = np.array(x.tolist(), dtype=float) # Convert to numpy before using it\n",
    "        x_curr = x_prev / np.linalg.norm(x_prev)  # Normalize the initial vector\n",
    "\n",
    "        for i in range(max_iterations):\n",
    "            norm_prev = np.linalg.norm(x_prev)\n",
    "            x_prev = x_curr.copy()\n",
    "            x_curr = np.array((A * sp.Matrix(x_prev)).tolist(), dtype = float) # perform the operation using sympy matrix, convert to numpy array\n",
    "            norm_curr = np.sum(x_curr)\n",
    "            x_curr = x_curr / norm_curr  # Normalize at each iteration\n",
    "            lambd = norm_curr / norm_prev\n",
    "            if np.linalg.norm(x_curr - x_prev) < epsilon:\n",
    "                return [x_curr, lambd, i]  # Return flattened eigenvector\n",
    "\n",
    "        return None  # Did not converge"
   ]
  },
  {
   "cell_type": "code",
   "execution_count": 9,
   "metadata": {},
   "outputs": [],
   "source": [
    "def apply_saati_method(matrices, epsilon, max_iterations=1000):\n",
    "    \"\"\"Applies the iterative function to multiple matrices using NumPy efficiently.\"\"\"\n",
    "    results = []\n",
    "    for matrix in matrices:\n",
    "        result = saati_method(matrix, epsilon, max_iterations)\n",
    "        results.append(result)\n",
    "    return results #Return as a NumPy array"
   ]
  },
  {
   "cell_type": "code",
   "execution_count": 10,
   "metadata": {},
   "outputs": [],
   "source": [
    "C = sp.Matrix([[1, 3, 5, 7, 2],\n",
    "              [sp.Rational(1,3), 1, 3, 3, sp.Rational(1,5)],\n",
    "              [sp.Rational(1,5), sp.Rational(1,3), 1, 2, sp.Rational(1,4)],\n",
    "              [sp.Rational(1,7), sp.Rational(1,3), sp.Rational(1,2), 1, sp.Rational(1,3)],\n",
    "              [sp.Rational(1,2), 5, 4, 3, 1]])"
   ]
  },
  {
   "cell_type": "code",
   "execution_count": 11,
   "metadata": {},
   "outputs": [],
   "source": [
    "def cumprod_row(matrix):\n",
    "    rows, cols = matrix.shape\n",
    "    return Matrix([[sp.prod(matrix[r, :c+1]) for c in range(cols)] for r in range(rows)])"
   ]
  },
  {
   "cell_type": "code",
   "execution_count": 20,
   "metadata": {},
   "outputs": [],
   "source": [
    "def geom_means(matrix):\n",
    "    rows, cols = matrix.shape\n",
    "    result = []\n",
    "\n",
    "    for r in range(rows):\n",
    "      row_prod = sp.prod(matrix[r, :])  # Calculate product of elements in current row\n",
    "      nth_root = sp.root(row_prod, cols) # Take the n-th root\n",
    "      result.append(float(nth_root))\n",
    "    \n",
    "    return result"
   ]
  },
  {
   "cell_type": "code",
   "execution_count": 14,
   "metadata": {},
   "outputs": [],
   "source": [
    "C = sp.Matrix([[1, 3, 5, 7, 2],\n",
    "              [sp.Rational(1,3), 1, 3, 3, sp.Rational(1,5)],\n",
    "              [sp.Rational(1,5), sp.Rational(1,3), 1, 2, sp.Rational(1,4)],\n",
    "              [sp.Rational(1,7), sp.Rational(1,3), sp.Rational(1,2), 1, sp.Rational(1,3)],\n",
    "              [sp.Rational(1,2), 5, 4, 3, 1]])\n",
    "\n",
    "A_1 = sp.Matrix([[1, 2, 3, 7, 4],\n",
    "              [sp.Rational(1,2), 1, 4, sp.Rational(1,4), sp.Rational(1,3)],\n",
    "              [sp.Rational(1,3), sp.Rational(1,4), 1, sp.Rational(1,5), sp.Rational(1,2)],\n",
    "              [sp.Rational(1,7), sp.Rational(1,4), 5, 1, sp.Rational(1,3)],\n",
    "              [sp.Rational(1,4), 3, 2, 3, 1]])\n",
    "\n",
    "A_2 = sp.Matrix([[1, 2, 3, 6, 4],\n",
    "              [sp.Rational(1,3), 1, 6, 6, 6],\n",
    "              [sp.Rational(1,5), sp.Rational(1,6), 1, 3, 4],\n",
    "              [sp.Rational(1,6), sp.Rational(1,6), sp.Rational(1,3), 1, 3],\n",
    "              [sp.Rational(1,4), sp.Rational(1,6), sp.Rational(1,4), sp.Rational(1,3), 1]])\n",
    "\n",
    "A_3 = sp.Matrix([[1, 2, 3, sp.Rational(1,2), sp.Rational(1,5)],\n",
    "              [sp.Rational(1,2), 1, 2, sp.Rational(1,4), sp.Rational(1,4)],\n",
    "              [sp.Rational(1,3), sp.Rational(1,2), 1, sp.Rational(1,6), sp.Rational(1,6)],\n",
    "              [2, 4, 6, 1, sp.Rational(1,2)],\n",
    "              [5, 4, 6, 2, 1]])\n",
    "\n",
    "A_4 = sp.Matrix([[1, 3, 5, 7, 9],\n",
    "              [sp.Rational(1,3), 1, 2, 5, 5],\n",
    "              [sp.Rational(1,5), sp.Rational(1,3), 1, 3, 3],\n",
    "              [sp.Rational(1,7), sp.Rational(1,5), sp.Rational(1,3), 1, 2],\n",
    "              [sp.Rational(1,9), sp.Rational(1,5), sp.Rational(1,3), sp.Rational(1,2), 1]])\n",
    "\n",
    "A_5 = sp.Matrix([[1, 2, 3, 2, 3],\n",
    "              [sp.Rational(1,2), 1, 3, 4, 5],\n",
    "              [sp.Rational(1,3), sp.Rational(1,3), 1, 2, 2],\n",
    "              [sp.Rational(1,3), sp.Rational(1,4), sp.Rational(1,2), 1, 3],\n",
    "              [sp.Rational(1,2), sp.Rational(1,5), sp.Rational(1,2), sp.Rational(1,3), 1]])\n",
    "res = [C, A_1, A_2, A_3, A_4, A_5]"
   ]
  },
  {
   "cell_type": "code",
   "execution_count": 15,
   "metadata": {},
   "outputs": [],
   "source": [
    "res_means = list(map(geom_means, res))\n",
    "res_means\n",
    "saati = list(map(saati_method, res))\n",
    "saati\n",
    "saati = [sublist[0] for sublist in saati]"
   ]
  },
  {
   "cell_type": "code",
   "execution_count": 16,
   "metadata": {},
   "outputs": [],
   "source": [
    "def weighted_sum_of_vectors(list_of_arrays):\n",
    "    c = list_of_arrays[0]\n",
    "    vectors = list_of_arrays[1:]\n",
    "    c = np.array(c)  # Ensure c is a NumPy array\n",
    "    vectors = [np.array(v) for v in vectors] # Ensure all vectors are numpy arrays\n",
    "    weighted_sum = np.zeros_like(vectors[0], dtype = float)  # Initialize with zeros (with float type to prevent int overflows\n",
    "    for i, vector in enumerate(vectors):\n",
    "       weighted_sum += c[i] * vector #Multiply vector by the coefficient and sum with the previous vectors\n",
    "    return [weighted_sum, weighted_sum/max(weighted_sum)]"
   ]
  },
  {
   "cell_type": "code",
   "execution_count": 17,
   "metadata": {},
   "outputs": [
    {
     "data": {
      "text/plain": [
       "[array([16.55497629,  9.01611159,  4.0649428 ,  4.52924   ,  6.73752204]),\n",
       " array([1.        , 0.5446164 , 0.24554205, 0.27358783, 0.40697866])]"
      ]
     },
     "execution_count": 17,
     "metadata": {},
     "output_type": "execute_result"
    }
   ],
   "source": [
    "weighted_sum_of_vectors(res_means)"
   ]
  },
  {
   "cell_type": "code",
   "execution_count": 18,
   "metadata": {},
   "outputs": [],
   "source": [
    "def KrivulinFull(C_then_A_i_matrices):\n",
    "    saati = list(map(saati_method, C_then_A_i_matrices))\n",
    "    saati = [sublist[0] for sublist in saati]\n",
    "    saati[0] = saati[0]/np.sum(saati[0])\n",
    "    # return weighted_sum_of_vectors(saati)\n",
    "    weighted_sum_of_vectors(saati)\n",
    "\n",
    "    geomeans = list(map(geom_means, C_then_A_i_matrices))"
   ]
  },
  {
   "cell_type": "code",
   "execution_count": 19,
   "metadata": {},
   "outputs": [],
   "source": [
    "KrivulinFull(res)"
   ]
  }
 ],
 "metadata": {
  "kernelspec": {
   "display_name": "base",
   "language": "python",
   "name": "python3"
  },
  "language_info": {
   "codemirror_mode": {
    "name": "ipython",
    "version": 3
   },
   "file_extension": ".py",
   "mimetype": "text/x-python",
   "name": "python",
   "nbconvert_exporter": "python",
   "pygments_lexer": "ipython3",
   "version": "3.12.7"
  }
 },
 "nbformat": 4,
 "nbformat_minor": 2
}
