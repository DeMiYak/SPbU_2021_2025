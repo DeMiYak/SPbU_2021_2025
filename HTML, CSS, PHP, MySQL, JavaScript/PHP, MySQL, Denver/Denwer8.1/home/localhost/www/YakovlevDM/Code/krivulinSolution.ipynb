{
 "cells": [
  {
   "cell_type": "code",
   "execution_count": 94,
   "metadata": {},
   "outputs": [],
   "source": [
    "import sympy as sp\n",
    "import numpy as np\n",
    "from sympy import Matrix"
   ]
  },
  {
   "cell_type": "code",
   "execution_count": 95,
   "metadata": {},
   "outputs": [],
   "source": [
    "C = sp.Matrix([\n",
    "    [1, 2],\n",
    "    [sp.Rational(1,2), 1]\n",
    "])\n",
    "\n",
    "A1 = sp.Matrix([\n",
    "    [1, 3, sp.Rational(1,2)],\n",
    "    [sp.Rational(1,3), 1, 4],\n",
    "    [2, sp.Rational(1,4), 1]\n",
    "])\n",
    "A2 = sp.Matrix([\n",
    "    [1, sp.Rational(1, 4), 2],\n",
    "    [4, 1, sp.Rational(1,5)],\n",
    "    [sp.Rational(1, 2), 5, 1]\n",
    "])\n",
    "\n",
    "A = [A1, A2]"
   ]
  },
  {
   "cell_type": "code",
   "execution_count": 96,
   "metadata": {},
   "outputs": [],
   "source": [
    "def max_algebra_multiply_symbolic(A, B, sym_val_dict):\n",
    "    rows_A, cols_A = A.shape\n",
    "    rows_B, cols_B = B.shape\n",
    "    if cols_A != rows_B:\n",
    "        raise ValueError(\"Matrices are not compatible for multiplication\")\n",
    "    C = Matrix.zeros(rows_A, cols_B)\n",
    "    \n",
    "    for i in range(rows_A):\n",
    "        for j in range(cols_B):\n",
    "            max_val = -float('inf')\n",
    "            max_expression = None\n",
    "            for k in range(cols_A):\n",
    "                cur_val = (A[i,k] * B[k,j]).subs(sym_val_dict)\n",
    "                    \n",
    "                if cur_val > max_val:\n",
    "                    max_val = cur_val\n",
    "                    max_expression = A[i,k] * B[k,j]\n",
    "\n",
    "            C[i,j] = max_expression\n",
    "\n",
    "    return C"
   ]
  },
  {
   "cell_type": "code",
   "execution_count": 97,
   "metadata": {},
   "outputs": [],
   "source": [
    "def max_matrix_power_symbolic(C, k, sym_val_dict):\n",
    "    if k == 0:\n",
    "        return Matrix.eye(C.shape[0])\n",
    "    elif k == 1:\n",
    "        return C\n",
    "    else:\n",
    "        result = C\n",
    "        for _ in range(k - 1):\n",
    "            result = max_algebra_multiply_symbolic(result, C, sym_val_dict)\n",
    "        return result"
   ]
  },
  {
   "cell_type": "code",
   "execution_count": 98,
   "metadata": {},
   "outputs": [],
   "source": [
    "def max_algebra_addition_symbolic(matrices, sym_val_dict): \n",
    "    \n",
    "    shape = matrices[0].shape\n",
    "    result = Matrix.zeros(shape[0], shape[1])\n",
    "    \n",
    "    for i in range(shape[0]):\n",
    "        for j in range(shape[1]):\n",
    "            max_value = -np.inf\n",
    "            for matrix in matrices:\n",
    "                matrix_ij_val = matrix[i, j].subs(sym_val_dict)\n",
    "                if matrix_ij_val > max_value:\n",
    "                    max_value = matrix_ij_val\n",
    "                    result[i, j] = matrix[i, j]\n",
    "    \n",
    "    return result"
   ]
  },
  {
   "cell_type": "code",
   "execution_count": 99,
   "metadata": {},
   "outputs": [],
   "source": [
    "def trace_symbolic(C, sym_val_dict):\n",
    "    diagonal_elements = Matrix.diagonal(C)\n",
    "    max_value = -np.inf\n",
    "    for el in diagonal_elements:\n",
    "        el_num = el.subs(sym_val_dict)\n",
    "        if el_num > max_value:\n",
    "            max_value = el_num\n",
    "            max_element = el\n",
    "    return max_element"
   ]
  },
  {
   "cell_type": "code",
   "execution_count": 100,
   "metadata": {},
   "outputs": [],
   "source": [
    "def spectral_radius_symbolic(C, sym_val_dict):\n",
    "    k = C.shape[0]\n",
    "    temp = C\n",
    "    max_value = -np.inf\n",
    "    max_expression = None\n",
    "    for i in range(1, k + 1):\n",
    "        tr = trace_symbolic(temp, sym_val_dict) ** sp.Rational(1, i)\n",
    "        num_tr = tr.subs(sym_val_dict)\n",
    "        temp = max_algebra_multiply_symbolic(temp, C, sym_val_dict)\n",
    "        if num_tr > max_value:\n",
    "            max_value = num_tr\n",
    "            max_expression = tr\n",
    "    return max_expression"
   ]
  },
  {
   "cell_type": "code",
   "execution_count": 101,
   "metadata": {},
   "outputs": [],
   "source": [
    "def klini_symbolic(C, sym_val_dict):\n",
    "    r = list(sym_val_dict.keys())[-1]\n",
    "    k = C.shape[0]\n",
    "    tmp = Matrix.eye(k)\n",
    "    matrices = [Matrix.eye(k)]\n",
    "    for i in range(1, k):\n",
    "        matrices.append(r**(-i)*max_algebra_multiply_symbolic(tmp, C, sym_val_dict))\n",
    "        tmp = max_algebra_multiply_symbolic(tmp, C, sym_val_dict)\n",
    "    return max_algebra_addition_symbolic(matrices, sym_val_dict)"
   ]
  },
  {
   "cell_type": "code",
   "execution_count": 102,
   "metadata": {},
   "outputs": [
    {
     "data": {
      "text/latex": [
       "$\\displaystyle 1$"
      ],
      "text/plain": [
       "1"
      ]
     },
     "execution_count": 102,
     "metadata": {},
     "output_type": "execute_result"
    }
   ],
   "source": [
    "sp_rad = spectral_radius_symbolic(C, {})\n",
    "sp_rad"
   ]
  },
  {
   "cell_type": "code",
   "execution_count": 103,
   "metadata": {},
   "outputs": [
    {
     "data": {
      "text/latex": [
       "$\\displaystyle \\left[\\begin{matrix}1 & \\frac{2}{\\lambda}\\\\\\frac{1}{2 \\lambda} & 1\\end{matrix}\\right]$"
      ],
      "text/plain": [
       "Matrix([\n",
       "[           1, 2/lambda],\n",
       "[1/(2*lambda),        1]])"
      ]
     },
     "execution_count": 103,
     "metadata": {},
     "output_type": "execute_result"
    }
   ],
   "source": [
    "sp_rad_sym = sp.Symbol('lambda')\n",
    "D = klini_symbolic(C, {sp_rad_sym: sp_rad})\n",
    "D\n",
    "#sp.latex(D)"
   ]
  },
  {
   "cell_type": "code",
   "execution_count": 104,
   "metadata": {},
   "outputs": [
    {
     "data": {
      "text/plain": [
       "[1, 1/2]"
      ]
     },
     "execution_count": 104,
     "metadata": {},
     "output_type": "execute_result"
    }
   ],
   "source": [
    "v = [\n",
    "    1,\n",
    "    sp.Rational(1,2)\n",
    "]\n",
    "v"
   ]
  },
  {
   "cell_type": "code",
   "execution_count": 105,
   "metadata": {},
   "outputs": [
    {
     "data": {
      "text/latex": [
       "$\\displaystyle \\left[\\begin{matrix}1 & 3 & 1\\\\2 & 1 & 4\\\\2 & \\frac{5}{2} & 1\\end{matrix}\\right]$"
      ],
      "text/plain": [
       "Matrix([\n",
       "[1,   3, 1],\n",
       "[2,   1, 4],\n",
       "[2, 5/2, 1]])"
      ]
     },
     "execution_count": 105,
     "metadata": {},
     "output_type": "execute_result"
    }
   ],
   "source": [
    "P = max_algebra_addition_symbolic([v[i]*A[i] for i in range(2)], {sp_rad_sym: sp_rad})\n",
    "P"
   ]
  },
  {
   "cell_type": "code",
   "execution_count": 106,
   "metadata": {},
   "outputs": [
    {
     "data": {
      "text/latex": [
       "$\\displaystyle \\sqrt{10}$"
      ],
      "text/plain": [
       "sqrt(10)"
      ]
     },
     "execution_count": 106,
     "metadata": {},
     "output_type": "execute_result"
    }
   ],
   "source": [
    "sp_rad1 = spectral_radius_symbolic(P, {sp_rad_sym: sp_rad})\n",
    "sp_rad1"
   ]
  },
  {
   "cell_type": "code",
   "execution_count": 107,
   "metadata": {},
   "outputs": [
    {
     "data": {
      "text/latex": [
       "$\\displaystyle \\left[\\begin{matrix}1 & \\frac{3}{\\mu_{1}} & \\frac{12}{\\mu_{1}^{2}}\\\\\\frac{8}{\\mu_{1}^{2}} & 1 & \\frac{4}{\\mu_{1}}\\\\\\frac{2}{\\mu_{1}} & \\frac{5}{2 \\mu_{1}} & 1\\end{matrix}\\right]$"
      ],
      "text/plain": [
       "Matrix([\n",
       "[        1,     3/mu_1, 12/mu_1**2],\n",
       "[8/mu_1**2,          1,     4/mu_1],\n",
       "[   2/mu_1, 5/(2*mu_1),          1]])"
      ]
     },
     "execution_count": 107,
     "metadata": {},
     "output_type": "execute_result"
    }
   ],
   "source": [
    "sp_rad_sym1 = sp.Symbol('mu_1')\n",
    "Q = klini_symbolic(P, {sp_rad_sym: sp_rad, sp_rad_sym1: sp_rad1})\n",
    "Q\n",
    "#sp.latex(Q)"
   ]
  },
  {
   "cell_type": "code",
   "execution_count": 108,
   "metadata": {},
   "outputs": [
    {
     "ename": "NameError",
     "evalue": "name 'invert_max_columns' is not defined",
     "output_type": "error",
     "traceback": [
      "\u001b[1;31m---------------------------------------------------------------------------\u001b[0m",
      "\u001b[1;31mNameError\u001b[0m                                 Traceback (most recent call last)",
      "Cell \u001b[1;32mIn[108], line 1\u001b[0m\n\u001b[1;32m----> 1\u001b[0m Q_max \u001b[38;5;241m=\u001b[39m \u001b[43minvert_max_columns\u001b[49m(Q, {sp_rad_sym: sp_rad, sp_rad_sym1: sp_rad1})\n\u001b[0;32m      2\u001b[0m Q_max\n",
      "\u001b[1;31mNameError\u001b[0m: name 'invert_max_columns' is not defined"
     ]
    }
   ],
   "source": [
    "Q_max = invert_max_columns(Q, {sp_rad_sym: sp_rad, sp_rad_sym1: sp_rad1})\n",
    "Q_max"
   ]
  },
  {
   "cell_type": "code",
   "execution_count": null,
   "metadata": {},
   "outputs": [],
   "source": [
    "def geometric_mean_rows(matrix):\n",
    "    \"\"\"Calculates the geometric mean of each row in a matrix.\n",
    "\n",
    "    Args:\n",
    "        matrix: A NumPy array representing the matrix.\n",
    "\n",
    "    Returns:\n",
    "        A NumPy array containing the geometric mean of each row.  Returns an array of NaNs if any row contains non-positive values.\n",
    "    \"\"\"\n",
    "    row_products = np.prod(matrix, axis=1, keepdims=True) # keepdims to maintain 2D shape\n",
    "    n = matrix.shape[1]\n",
    "    return np.power(row_products, 1.0 / n)"
   ]
  },
  {
   "cell_type": "code",
   "execution_count": null,
   "metadata": {},
   "outputs": [],
   "source": [
    "def iterative_matrix_vector_multiply_normalized(A, x, epsilon, max_iterations=1000):\n",
    "    x_prev = x\n",
    "    x_curr = x.copy() / np.linalg.norm(x) # Normalize the initial vector\n",
    "\n",
    "    for i in range(max_iterations):\n",
    "        norm_prev = np.linalg.norm(x_prev)\n",
    "        x_prev = x_curr.copy()\n",
    "        x_curr = np.dot(A, x_prev)\n",
    "        norm_curr = np.sum(x_curr)\n",
    "        x_curr = x_curr / norm_curr # Normalize at each iteration\n",
    "        lambd = norm_curr/norm_prev\n",
    "        if np.linalg.norm(x_curr - x_prev) < epsilon:\n",
    "            return [x_curr, lambd, i]\n",
    "\n",
    "    return None  # Did not converge"
   ]
  },
  {
   "cell_type": "code",
   "execution_count": 109,
   "metadata": {},
   "outputs": [],
   "source": [
    "def apply_to_multiple_matrices_numpy_corrected(matrices, x, epsilon, max_iterations=1000):\n",
    "    \"\"\"Applies the iterative function to multiple matrices using NumPy efficiently.\"\"\"\n",
    "    results = []\n",
    "    for matrix in matrices:\n",
    "        result = iterative_matrix_vector_multiply_normalized(matrix, x, epsilon, max_iterations)\n",
    "        results.append(result)\n",
    "    return results #Return as a NumPy array"
   ]
  },
  {
   "cell_type": "code",
   "execution_count": 31,
   "metadata": {},
   "outputs": [],
   "source": [
    "def pmatrix(a, precision=2):\n",
    "    \"\"\"Returns a LaTeX pmatrix with precision control\n",
    "\n",
    "    :a: numpy array\n",
    "    :precision: Number of decimal places (default is 2)\n",
    "    :returns: LaTeX pmatrix as a string\n",
    "    \"\"\"\n",
    "    if len(a.shape) > 2:\n",
    "        raise ValueError('pmatrix can at most display two dimensions')\n",
    "\n",
    "    lines = []\n",
    "    for row in a:\n",
    "        formatted_row = \" & \".join([f\"{x:.{precision}f}\" for x in row])\n",
    "        lines.append(formatted_row)\n",
    "\n",
    "\n",
    "    rv = [r'\\begin{pmatrix}']\n",
    "    rv += [ '  ' + l + r'\\\\' for l in lines]\n",
    "    rv += [r'\\end{pmatrix}']\n",
    "    return '\\n'.join(rv)\n"
   ]
  },
  {
   "cell_type": "code",
   "execution_count": 32,
   "metadata": {},
   "outputs": [],
   "source": [
    "C = sp.Matrix([[1, 3, 5, 7, 2],\n",
    "              [sp.Rational(1,3), 1, 3, 3, sp.Rational(1,5)],\n",
    "              [sp.Rational(1,5), sp.Rational(1,3), 1, 2, sp.Rational(1,4)],\n",
    "              [sp.Rational(1,7), sp.Rational(1,3), sp.Rational(1,2), 1, sp.Rational(1,3)],\n",
    "              [sp.Rational(1,2), 5, 4, 3, 1]])\n",
    "\n",
    "A_1 = sp.Matrix([[1, 2, 3, 7, 4],\n",
    "              [sp.Rational(1,2), 1, 4, sp.Rational(1,4), sp.Rational(1,3)],\n",
    "              [sp.Rational(1,3), sp.Rational(1,4), 1, sp.Rational(1,5), sp.Rational(1,2)],\n",
    "              [sp.Rational(1,7), sp.Rational(1,4), 5, 1, sp.Rational(1,3)],\n",
    "              [sp.Rational(1,4), 3, 2, 3, 1]])\n",
    "\n",
    "A_2 = sp.Matrix([[1, 2, 3, 6, 4],\n",
    "              [sp.Rational(1,3), 1, 6, 6, 6],\n",
    "              [sp.Rational(1,5), sp.Rational(1,6), 1, 3, 4],\n",
    "              [sp.Rational(1,6), sp.Rational(1,6), sp.Rational(1,3), 1, 3],\n",
    "              [sp.Rational(1,4), sp.Rational(1,6), sp.Rational(1,4), sp.Rational(1,3), 1]])\n",
    "\n",
    "A_3 = sp.Matrix([[1, 2, 3, sp.Rational(1,2), sp.Rational(1,5)],\n",
    "              [sp.Rational(1,2), 1, 2, sp.Rational(1,4), sp.Rational(1,4)],\n",
    "              [sp.Rational(1,3), sp.Rational(1,2), 1, sp.Rational(1,6), sp.Rational(1,6)],\n",
    "              [2, 4, 6, 1, sp.Rational(1,2)],\n",
    "              [5, 4, 6, 2, 1]])\n",
    "\n",
    "A_4 = sp.Matrix([[1, 3, 5, 7, 9],\n",
    "              [sp.Rational(1,3), 1, 2, 5, 5],\n",
    "              [sp.Rational(1,5), sp.Rational(1,3), 1, 3, 3],\n",
    "              [sp.Rational(1,7), sp.Rational(1,5), sp.Rational(1,3), 1, 2],\n",
    "              [sp.Rational(1,9), sp.Rational(1,5), sp.Rational(1,3), sp.Rational(1,2), 1]])\n",
    "\n",
    "A_5 = sp.Matrix([[1, 2, 3, 2, 3],\n",
    "              [sp.Rational(1,2), 1, 3, 4, 5],\n",
    "              [sp.Rational(1,3), sp.Rational(1,3), 1, 2, 2],\n",
    "              [sp.Rational(1,3), sp.Rational(1,4), sp.Rational(1,2), 1, 3],\n",
    "              [sp.Rational(1,2), sp.Rational(1,5), sp.Rational(1,2), sp.Rational(1,3), 1]])\n",
    "\n",
    "x = np.array([1,1,1,1,1])\n",
    "epsilon = 1e-9"
   ]
  },
  {
   "cell_type": "code",
   "execution_count": 110,
   "metadata": {},
   "outputs": [
    {
     "ename": "NameError",
     "evalue": "name 'iterative_matrix_vector_multiply_normalized' is not defined",
     "output_type": "error",
     "traceback": [
      "\u001b[1;31m---------------------------------------------------------------------------\u001b[0m",
      "\u001b[1;31mNameError\u001b[0m                                 Traceback (most recent call last)",
      "Cell \u001b[1;32mIn[110], line 4\u001b[0m\n\u001b[0;32m      1\u001b[0m matrices \u001b[38;5;241m=\u001b[39m [C, A_1, A_2, A_3, A_4, A_5]\n\u001b[0;32m      3\u001b[0m \u001b[38;5;66;03m# print(iterative_matrix_vector_multiply_normalized(C, x, epsilon))\u001b[39;00m\n\u001b[1;32m----> 4\u001b[0m results \u001b[38;5;241m=\u001b[39m \u001b[43mapply_to_multiple_matrices_numpy_corrected\u001b[49m\u001b[43m(\u001b[49m\u001b[43mmatrices\u001b[49m\u001b[43m,\u001b[49m\u001b[43m \u001b[49m\u001b[43mx\u001b[49m\u001b[43m,\u001b[49m\u001b[43m \u001b[49m\u001b[43mepsilon\u001b[49m\u001b[43m)\u001b[49m\n\u001b[0;32m      5\u001b[0m \u001b[38;5;28mprint\u001b[39m(results)\n\u001b[0;32m      6\u001b[0m vectors\u001b[38;5;241m=\u001b[39m[]\n",
      "Cell \u001b[1;32mIn[109], line 5\u001b[0m, in \u001b[0;36mapply_to_multiple_matrices_numpy_corrected\u001b[1;34m(matrices, x, epsilon, max_iterations)\u001b[0m\n\u001b[0;32m      3\u001b[0m results \u001b[38;5;241m=\u001b[39m []\n\u001b[0;32m      4\u001b[0m \u001b[38;5;28;01mfor\u001b[39;00m matrix \u001b[38;5;129;01min\u001b[39;00m matrices:\n\u001b[1;32m----> 5\u001b[0m     result \u001b[38;5;241m=\u001b[39m \u001b[43miterative_matrix_vector_multiply_normalized\u001b[49m(matrix, x, epsilon, max_iterations)\n\u001b[0;32m      6\u001b[0m     results\u001b[38;5;241m.\u001b[39mappend(result)\n\u001b[0;32m      7\u001b[0m \u001b[38;5;28;01mreturn\u001b[39;00m results\n",
      "\u001b[1;31mNameError\u001b[0m: name 'iterative_matrix_vector_multiply_normalized' is not defined"
     ]
    },
    {
     "ename": "",
     "evalue": "",
     "output_type": "error",
     "traceback": [
      "\u001b[1;31mThe Kernel crashed while executing code in the current cell or a previous cell. \n",
      "\u001b[1;31mPlease review the code in the cell(s) to identify a possible cause of the failure. \n",
      "\u001b[1;31mClick <a href='https://aka.ms/vscodeJupyterKernelCrash'>here</a> for more info. \n",
      "\u001b[1;31mView Jupyter <a href='command:jupyter.viewOutput'>log</a> for further details."
     ]
    }
   ],
   "source": [
    "matrices = [C, A_1, A_2, A_3, A_4, A_5]\n",
    "\n",
    "# print(iterative_matrix_vector_multiply_normalized(C, x, epsilon))\n",
    "results = apply_to_multiple_matrices_numpy_corrected(matrices, x, epsilon)\n",
    "print(results)\n",
    "vectors=[]\n",
    "for res in results:\n",
    "    # print(\"A: \", res[0])\n",
    "    # print(\"Lambda: \", res[1])\n",
    "    # print(\"Iterations: \", res[2])\n",
    "    # print(\"Latex: \", pmatrix(res[0][:, np.newaxis], 4))\n",
    "    vectors.append(res[0])\n",
    "\n",
    "# print(results[0][0]*results[0][1], np.dot(C,results[0][0]))\n",
    "\n",
    "Cvec = vectors.pop(0)\n",
    "print(vectors)\n",
    "print(vectors[1][2]*Cvec[1])\n",
    "res = vectors*Cvec[:, np.newaxis]\n",
    "# print(\"\\n\", Cvec, \"\\n\", vectors, \"\\n\", res)\n",
    "print(pmatrix(sum(res)[:,np.newaxis], precision=4))\n",
    "sumres = sum(res)\n",
    "print(pmatrix((sumres/max(sumres))[:,np.newaxis], precision=4))"
   ]
  },
  {
   "cell_type": "code",
   "execution_count": 390,
   "metadata": {},
   "outputs": [
    {
     "data": {
      "text/latex": [
       "$\\displaystyle \\sqrt[4]{10}$"
      ],
      "text/plain": [
       "10**(1/4)"
      ]
     },
     "execution_count": 390,
     "metadata": {},
     "output_type": "execute_result"
    }
   ],
   "source": [
    "sp_rad = spectral_radius_symbolic(C, {})\n",
    "sp_rad"
   ]
  },
  {
   "cell_type": "code",
   "execution_count": 341,
   "metadata": {},
   "outputs": [
    {
     "data": {
      "text/latex": [
       "$\\displaystyle \\left[\\begin{matrix}1 & \\frac{10}{\\lambda^{2}} & \\frac{30}{\\lambda^{3}} & \\frac{60}{\\lambda^{4}} & \\frac{2}{\\lambda}\\\\\\frac{3}{5 \\lambda^{2}} & 1 & \\frac{3}{\\lambda} & \\frac{6}{\\lambda^{2}} & \\frac{2}{\\lambda^{3}}\\\\\\frac{1}{5 \\lambda} & \\frac{10}{3 \\lambda^{3}} & 1 & \\frac{2}{\\lambda} & \\frac{2}{3 \\lambda^{2}}\\\\\\frac{1}{\\lambda^{4}} & \\frac{5}{3 \\lambda^{2}} & \\frac{5}{\\lambda^{3}} & 1 & \\frac{1}{3 \\lambda}\\\\\\frac{3}{\\lambda^{3}} & \\frac{5}{\\lambda} & \\frac{15}{\\lambda^{2}} & \\frac{30}{\\lambda^{3}} & 1\\end{matrix}\\right]$"
      ],
      "text/plain": [
       "Matrix([\n",
       "[              1,     10/lambda**2, 30/lambda**3, 60/lambda**4,        2/lambda],\n",
       "[3/(5*lambda**2),                1,     3/lambda,  6/lambda**2,     2/lambda**3],\n",
       "[   1/(5*lambda), 10/(3*lambda**3),            1,     2/lambda, 2/(3*lambda**2)],\n",
       "[   lambda**(-4),  5/(3*lambda**2),  5/lambda**3,            1,    1/(3*lambda)],\n",
       "[    3/lambda**3,         5/lambda, 15/lambda**2, 30/lambda**3,               1]])"
      ]
     },
     "execution_count": 341,
     "metadata": {},
     "output_type": "execute_result"
    }
   ],
   "source": [
    "sp_rad_sym = sp.Symbol('lambda')\n",
    "D = klini_symbolic(C, {sp_rad_sym: sp_rad})\n",
    "D\n",
    "#sp.latex(D)"
   ]
  },
  {
   "cell_type": "code",
   "execution_count": 175,
   "metadata": {},
   "outputs": [
    {
     "name": "stdout",
     "output_type": "stream",
     "text": [
      "Matrix([[1/5, 1/z, 1/6]])\n",
      "Matrix([[1, 1/5, 1/5, 1/7, 1/2]])\n"
     ]
    }
   ],
   "source": [
    "def invert_max_columns(matrix, sym_val_dict):\n",
    "    if not isinstance(matrix, sp.Matrix) or not isinstance(sym_val_dict, dict):\n",
    "        return \"Error: Invalid input\"\n",
    "\n",
    "    rows, cols = matrix.shape\n",
    "    inverted_maxima = []\n",
    "\n",
    "    for j in range(cols):\n",
    "        column = matrix[:, j]\n",
    "        try:\n",
    "            num_column = np.array([expr.subs(sym_val_dict) for expr in column])\n",
    "            max_index = np.argmax(num_column)\n",
    "            max_element = column[max_index]\n",
    "            inverted_max = 1 / max_element\n",
    "            inverted_maxima.append(inverted_max)\n",
    "        except (TypeError, ValueError, ZeroDivisionError):\n",
    "            return f\"Error in column {j + 1}\"\n",
    "\n",
    "    return sp.Matrix(inverted_maxima).T"
   ]
  },
  {
   "cell_type": "code",
   "execution_count": 253,
   "metadata": {},
   "outputs": [
    {
     "data": {
      "text/latex": [
       "$\\displaystyle \\left[\\begin{matrix}1 & \\frac{\\lambda^{2}}{10} & \\frac{\\lambda^{3}}{30} & \\frac{\\lambda^{4}}{60} & \\frac{\\lambda}{2}\\end{matrix}\\right]$"
      ],
      "text/plain": [
       "Matrix([[1, lambda**2/10, lambda**3/30, lambda**4/60, lambda/2]])"
      ]
     },
     "execution_count": 253,
     "metadata": {},
     "output_type": "execute_result"
    }
   ],
   "source": [
    "S = invert_max_columns(D, {sp_rad_sym: sp_rad})\n",
    "S\n"
   ]
  },
  {
   "cell_type": "code",
   "execution_count": 259,
   "metadata": {},
   "outputs": [],
   "source": [
    "def inverse_min_columns_symbolic(matrix, sym_val_dict):\n",
    "    if not isinstance(matrix, sp.Matrix) or not isinstance(sym_val_dict, dict):\n",
    "        return \"Error: Invalid input\"\n",
    "\n",
    "    rows, cols = matrix.shape\n",
    "    minima = []\n",
    "\n",
    "    for j in range(cols):\n",
    "        column = matrix[:, j]\n",
    "        try:\n",
    "            num_column = np.array([expr.subs(sym_val_dict) for expr in column])\n",
    "            min_index = np.argmin(num_column)\n",
    "            min_element = column[min_index]\n",
    "            min_element = 1 / min_element\n",
    "            minima.append(min_element)\n",
    "        except (TypeError, ValueError):\n",
    "            return f\"Error in column {j + 1}\"\n",
    "\n",
    "    return sp.Matrix(minima).T"
   ]
  },
  {
   "cell_type": "code",
   "execution_count": 260,
   "metadata": {},
   "outputs": [
    {
     "data": {
      "text/latex": [
       "$\\displaystyle \\left[\\begin{matrix}\\lambda^{4} & \\frac{3 \\lambda^{2}}{5} & \\frac{\\lambda^{3}}{5} & 1 & 3 \\lambda\\end{matrix}\\right]$"
      ],
      "text/plain": [
       "Matrix([[lambda**4, 3*lambda**2/5, lambda**3/5, 1, 3*lambda]])"
      ]
     },
     "execution_count": 260,
     "metadata": {},
     "output_type": "execute_result"
    }
   ],
   "source": [
    "res_min = inverse_min_columns_symbolic(D, {sp_rad_sym: sp_rad})\n",
    "res_min"
   ]
  },
  {
   "cell_type": "code",
   "execution_count": 261,
   "metadata": {},
   "outputs": [
    {
     "data": {
      "text/latex": [
       "$\\displaystyle \\left[\\begin{matrix}1\\\\\\frac{1}{\\lambda^{2}}\\\\\\frac{1}{3 \\lambda}\\\\\\frac{1}{6}\\\\\\frac{\\lambda}{2}\\end{matrix}\\right]$"
      ],
      "text/plain": [
       "Matrix([\n",
       "[           1],\n",
       "[lambda**(-2)],\n",
       "[1/(3*lambda)],\n",
       "[         1/6],\n",
       "[    lambda/2]])"
      ]
     },
     "execution_count": 261,
     "metadata": {},
     "output_type": "execute_result"
    }
   ],
   "source": [
    "w_1 = sp.Matrix([1,\n",
    "                 1/sp_rad_sym**2,\n",
    "                 sp.Rational(1,3)/sp_rad_sym,\n",
    "                 sp.Rational(1,6),\n",
    "                 sp_rad_sym*sp.Rational(1,2)])\n",
    "w_1"
   ]
  },
  {
   "cell_type": "code",
   "execution_count": 262,
   "metadata": {},
   "outputs": [
    {
     "data": {
      "text/latex": [
       "$\\displaystyle \\left[\\begin{matrix}1\\\\\\frac{3}{5 \\lambda^{2}}\\\\\\frac{1}{5 \\lambda}\\\\\\frac{1}{10}\\\\\\frac{3}{\\lambda^{3}}\\end{matrix}\\right]$"
      ],
      "text/plain": [
       "Matrix([\n",
       "[              1],\n",
       "[3/(5*lambda**2)],\n",
       "[   1/(5*lambda)],\n",
       "[           1/10],\n",
       "[    3/lambda**3]])"
      ]
     },
     "execution_count": 262,
     "metadata": {},
     "output_type": "execute_result"
    }
   ],
   "source": [
    "w_2 = sp.Matrix([1, \n",
    "                 sp.Rational(3,5)/sp_rad_sym**2,\n",
    "                 sp.Rational(1,5)/sp_rad_sym,\n",
    "                 sp.Rational(1,10),\n",
    "                 3/sp_rad_sym**3])\n",
    "w_2"
   ]
  },
  {
   "cell_type": "code",
   "execution_count": 288,
   "metadata": {},
   "outputs": [
    {
     "data": {
      "text/latex": [
       "$\\displaystyle \\left[\\begin{matrix}1 & 2 & 3 & 7 & 4\\\\\\frac{1}{2} & 1 & 4 & 2 \\lambda & \\frac{5 \\lambda}{2}\\\\\\frac{1}{3} & \\frac{\\lambda}{6} & 1 & \\lambda & \\lambda\\\\\\frac{2}{3 \\lambda} & \\frac{4}{3 \\lambda} & 5 & 1 & \\frac{3 \\lambda}{2}\\\\\\frac{5}{3 \\lambda} & 3 & 2 & 3 & 1\\end{matrix}\\right]$"
      ],
      "text/plain": [
       "Matrix([\n",
       "[           1,            2, 3,        7,          4],\n",
       "[         1/2,            1, 4, 2*lambda, 5*lambda/2],\n",
       "[         1/3,     lambda/6, 1,   lambda,     lambda],\n",
       "[2/(3*lambda), 4/(3*lambda), 5,        1, 3*lambda/2],\n",
       "[5/(3*lambda),            3, 2,        3,          1]])"
      ]
     },
     "execution_count": 288,
     "metadata": {},
     "output_type": "execute_result"
    }
   ],
   "source": [
    "A = [A_1, A_2, A_3, A_4, A_5]\n",
    "B_1 = max_algebra_addition_symbolic([w_1[i]*A[i] for i in range(5)], {sp_rad_sym: sp_rad})\n",
    "B_1"
   ]
  },
  {
   "cell_type": "code",
   "execution_count": 289,
   "metadata": {},
   "outputs": [
    {
     "data": {
      "text/latex": [
       "$\\displaystyle \\frac{\\sqrt{30} \\sqrt{\\lambda}}{2}$"
      ],
      "text/plain": [
       "sqrt(30)*sqrt(lambda)/2"
      ]
     },
     "execution_count": 289,
     "metadata": {},
     "output_type": "execute_result"
    }
   ],
   "source": [
    "sp_rad1 = spectral_radius_symbolic(B_1, {sp_rad_sym: sp_rad})\n",
    "sp_rad1"
   ]
  },
  {
   "cell_type": "code",
   "execution_count": 334,
   "metadata": {},
   "outputs": [
    {
     "data": {
      "text/latex": [
       "$\\displaystyle \\left[\\begin{matrix}1 & \\frac{21}{5 \\mu_{1}} & \\frac{35}{\\mu_{1}^{2}} & \\frac{7}{\\mu_{1}} & \\frac{7}{5}\\\\\\frac{25}{6 \\mu_{1}^{2}} & 1 & \\frac{5}{\\mu_{1}} & 1 & \\frac{\\mu_{1}}{3}\\\\\\frac{5}{3 \\mu_{1}^{2}} & \\frac{2}{5} & 1 & \\frac{2 \\mu_{1}}{15} & \\frac{2 \\mu_{1}}{15}\\\\\\frac{5}{2 \\mu_{1}^{2}} & \\frac{3}{5} & \\frac{5}{\\mu_{1}} & 1 & \\frac{\\mu_{1}}{5}\\\\\\frac{25}{2 \\mu_{1}^{3}} & \\frac{3}{\\mu_{1}} & \\frac{15}{\\mu_{1}^{2}} & \\frac{3}{\\mu_{1}} & 1\\end{matrix}\\right]$"
      ],
      "text/plain": [
       "Matrix([\n",
       "[             1, 21/(5*mu_1), 35/mu_1**2,    7/mu_1,       7/5],\n",
       "[25/(6*mu_1**2),           1,     5/mu_1,         1,    mu_1/3],\n",
       "[ 5/(3*mu_1**2),         2/5,          1, 2*mu_1/15, 2*mu_1/15],\n",
       "[ 5/(2*mu_1**2),         3/5,     5/mu_1,         1,    mu_1/5],\n",
       "[25/(2*mu_1**3),      3/mu_1, 15/mu_1**2,    3/mu_1,         1]])"
      ]
     },
     "execution_count": 334,
     "metadata": {},
     "output_type": "execute_result"
    }
   ],
   "source": [
    "sp_rad_sym1 = sp.Symbol('mu_1')\n",
    "S = klini_symbolic(B_1, {sp_rad_sym: sp_rad, sp_rad_sym1: sp_rad1.subs({sp_rad_sym: sp_rad})})\n",
    "S.subs({sp_rad_sym: 2*sp_rad_sym1**2/15})\n"
   ]
  },
  {
   "cell_type": "code",
   "execution_count": 330,
   "metadata": {},
   "outputs": [
    {
     "data": {
      "text/latex": [
       "$\\displaystyle \\left[\\begin{matrix}1 & \\frac{2 \\mu_{1}^{3}}{63 \\lambda} & \\frac{\\mu_{1}^{2}}{35} & \\frac{\\mu_{1}}{7} & \\frac{2 \\mu_{1}^{2}}{21 \\lambda}\\end{matrix}\\right]$"
      ],
      "text/plain": [
       "Matrix([[1, 2*mu_1**3/(63*lambda), mu_1**2/35, mu_1/7, 2*mu_1**2/(21*lambda)]])"
      ]
     },
     "execution_count": 330,
     "metadata": {},
     "output_type": "execute_result"
    }
   ],
   "source": [
    "S_res = invert_max_columns(S, {sp_rad_sym: sp_rad, sp_rad_sym1: sp_rad1.subs({sp_rad_sym: sp_rad})})\n",
    "S_res"
   ]
  },
  {
   "cell_type": "code",
   "execution_count": 342,
   "metadata": {},
   "outputs": [
    {
     "data": {
      "text/latex": [
       "$\\displaystyle \\left[\\begin{matrix}1 & 2 & 3 & 7 & 4\\\\\\frac{1}{2} & 1 & 4 & \\frac{12}{\\lambda^{3}} & \\frac{15}{\\lambda^{3}}\\\\\\frac{1}{3} & \\frac{1}{4} & 1 & \\frac{6}{\\lambda^{3}} & \\frac{6}{\\lambda^{3}}\\\\\\frac{2}{5 \\lambda} & \\frac{4}{5 \\lambda} & 5 & 1 & \\frac{9}{\\lambda^{3}}\\\\\\frac{1}{\\lambda} & 3 & 2 & 3 & 1\\end{matrix}\\right]$"
      ],
      "text/plain": [
       "Matrix([\n",
       "[           1,            2, 3,            7,            4],\n",
       "[         1/2,            1, 4, 12/lambda**3, 15/lambda**3],\n",
       "[         1/3,          1/4, 1,  6/lambda**3,  6/lambda**3],\n",
       "[2/(5*lambda), 4/(5*lambda), 5,            1,  9/lambda**3],\n",
       "[    1/lambda,            3, 2,            3,            1]])"
      ]
     },
     "execution_count": 342,
     "metadata": {},
     "output_type": "execute_result"
    }
   ],
   "source": [
    "B_2 = max_algebra_addition_symbolic([w_2[i]*A[i] for i in range(5)], {sp_rad_sym: sp_rad})\n",
    "B_2\n",
    "#sp.latex(B_2)"
   ]
  },
  {
   "cell_type": "code",
   "execution_count": 343,
   "metadata": {},
   "outputs": [
    {
     "data": {
      "text/latex": [
       "$\\displaystyle 3 \\sqrt{5} \\sqrt{\\frac{1}{\\lambda^{3}}}$"
      ],
      "text/plain": [
       "3*sqrt(5)*sqrt(lambda**(-3))"
      ]
     },
     "execution_count": 343,
     "metadata": {},
     "output_type": "execute_result"
    }
   ],
   "source": [
    "sp_rad2 = spectral_radius_symbolic(B_2, {sp_rad_sym: sp_rad})\n",
    "sp_rad2"
   ]
  },
  {
   "cell_type": "code",
   "execution_count": 353,
   "metadata": {},
   "outputs": [
    {
     "data": {
      "text/latex": [
       "$\\displaystyle \\left[\\begin{matrix}1 & \\frac{14}{\\mu_{2}^{2}} & \\frac{35}{\\mu_{2}^{2}} & \\frac{7}{\\mu_{2}} & \\frac{14}{3 \\mu_{2}}\\\\\\frac{5}{3 \\mu_{2}^{2}} & 1 & \\frac{5}{\\mu_{2}} & 1 & \\frac{\\mu_{2}}{3}\\\\\\frac{1}{3 \\mu_{2}} & \\frac{2}{5} & 1 & \\frac{2}{5} & \\frac{2 \\mu_{2}}{15}\\\\\\frac{5}{3 \\mu_{2}^{2}} & \\frac{2}{\\mu_{2}} & \\frac{5}{\\mu_{2}} & 1 & \\frac{2}{3}\\\\\\frac{5}{\\mu_{2}^{3}} & \\frac{3}{\\mu_{2}} & \\frac{15}{\\mu_{2}^{2}} & \\frac{3}{\\mu_{2}} & 1\\end{matrix}\\right]$"
      ],
      "text/plain": [
       "Matrix([\n",
       "[            1, 14/mu_2**2, 35/mu_2**2, 7/mu_2, 14/(3*mu_2)],\n",
       "[5/(3*mu_2**2),          1,     5/mu_2,      1,      mu_2/3],\n",
       "[   1/(3*mu_2),        2/5,          1,    2/5,   2*mu_2/15],\n",
       "[5/(3*mu_2**2),     2/mu_2,     5/mu_2,      1,         2/3],\n",
       "[    5/mu_2**3,     3/mu_2, 15/mu_2**2, 3/mu_2,           1]])"
      ]
     },
     "execution_count": 353,
     "metadata": {},
     "output_type": "execute_result"
    }
   ],
   "source": [
    "sp_rad_sym2 = sp.Symbol(\"mu_2\")\n",
    "sp_rad\n",
    "sp_rad2\n",
    "Q = klini_symbolic(B_2, {sp_rad_sym: sp_rad, sp_rad_sym2: sp_rad2.subs({sp_rad_sym:sp_rad})})\n",
    "Q.subs({sp_rad_sym: (45/sp_rad_sym2**2)**(sp.Rational(1,3))})"
   ]
  },
  {
   "cell_type": "code",
   "execution_count": 356,
   "metadata": {},
   "outputs": [
    {
     "data": {
      "text/latex": [
       "$\\displaystyle \\left[\\begin{matrix}3 \\mu_{2} & \\frac{5}{2} & 1 & \\frac{5}{2} & \\frac{15}{2 \\mu_{2}}\\end{matrix}\\right]$"
      ],
      "text/plain": [
       "Matrix([[3*mu_2, 5/2, 1, 5/2, 15/(2*mu_2)]])"
      ]
     },
     "execution_count": 356,
     "metadata": {},
     "output_type": "execute_result"
    }
   ],
   "source": [
    "Q_min = inverse_min_columns_symbolic(Q, {sp_rad_sym: sp_rad, sp_rad_sym2: sp_rad2.subs({sp_rad_sym: sp_rad})})\n",
    "Q_min.subs({sp_rad_sym: (45/sp_rad_sym2**2)**(sp.Rational(1,3))})"
   ]
  },
  {
   "cell_type": "code",
   "execution_count": 358,
   "metadata": {},
   "outputs": [
    {
     "data": {
      "text/latex": [
       "$\\displaystyle \\left[\\begin{matrix}1 & \\frac{\\mu_{2}^{2}}{14} & \\frac{\\mu_{2}^{2}}{35} & \\frac{\\mu_{2}}{7} & \\frac{3 \\mu_{2}}{14}\\end{matrix}\\right]$"
      ],
      "text/plain": [
       "Matrix([[1, mu_2**2/14, mu_2**2/35, mu_2/7, 3*mu_2/14]])"
      ]
     },
     "execution_count": 358,
     "metadata": {},
     "output_type": "execute_result"
    }
   ],
   "source": [
    "Q_max = invert_max_columns(Q, {sp_rad_sym: sp_rad, sp_rad_sym2: sp_rad2.subs({sp_rad_sym: sp_rad})})\n",
    "Q_max.subs({sp_rad_sym: (45/sp_rad_sym2**2)**(sp.Rational(1,3))})"
   ]
  },
  {
   "cell_type": "code",
   "execution_count": 360,
   "metadata": {},
   "outputs": [],
   "source": [
    "elwise = lambda a, b, f: [f(i,j) for i,j in zip(a,b)]\n",
    "div = lambda a, b: elwise(a,b, lambda x,y: x/y)"
   ]
  },
  {
   "cell_type": "code",
   "execution_count": 366,
   "metadata": {},
   "outputs": [
    {
     "data": {
      "text/plain": [
       "[9*2**(5/8)*5**(1/8)/2,\n",
       " 7*10**(3/4)/9,\n",
       " 7*10**(3/4)/9,\n",
       " 7*2**(3/8)*5**(7/8)/6,\n",
       " 7*10**(3/4)/9]"
      ]
     },
     "execution_count": 366,
     "metadata": {},
     "output_type": "execute_result"
    }
   ],
   "source": [
    "div(Q_min.subs({sp_rad_sym: sp_rad, sp_rad_sym2: sp_rad2.subs({sp_rad_sym: sp_rad})}), Q_max.subs({sp_rad_sym: sp_rad, sp_rad_sym2: sp_rad2.subs({sp_rad_sym: sp_rad})}))"
   ]
  },
  {
   "cell_type": "code",
   "execution_count": 372,
   "metadata": {},
   "outputs": [
    {
     "data": {
      "text/latex": [
       "$\\displaystyle \\left[\\begin{matrix}1.0\\\\0.2083\\\\0.1178\\\\0.2083\\\\0.2209\\end{matrix}\\right]$"
      ],
      "text/plain": [
       "Matrix([\n",
       "[   1.0],\n",
       "[0.2083],\n",
       "[0.1178],\n",
       "[0.2083],\n",
       "[0.2209]])"
      ]
     },
     "execution_count": 372,
     "metadata": {},
     "output_type": "execute_result"
    }
   ],
   "source": [
    "v = sp.Matrix([1,\n",
    "               sp.Rational(5, 3)/sp_rad_sym2**2,\n",
    "               sp.Rational(1,3)/sp_rad_sym2,\n",
    "               sp.Rational(5,3)/sp_rad_sym2**2,\n",
    "               5/sp_rad_sym2**3]\n",
    "               )\n",
    "v.subs({sp_rad_sym2: sp_rad2.subs({sp_rad_sym: sp_rad})}).evalf(4)"
   ]
  },
  {
   "cell_type": "code",
   "execution_count": 382,
   "metadata": {},
   "outputs": [
    {
     "name": "stdout",
     "output_type": "stream",
     "text": [
      "1 0.8 0.6324555320336759\n"
     ]
    }
   ],
   "source": [
    "print(1, 4/5, 2/np.sqrt(10))"
   ]
  },
  {
   "cell_type": "code",
   "execution_count": 383,
   "metadata": {},
   "outputs": [
    {
     "name": "stdout",
     "output_type": "stream",
     "text": [
      "1 1 0.7905694150420949\n"
     ]
    }
   ],
   "source": [
    "print(1, 1, np.sqrt(10)/4)"
   ]
  },
  {
   "cell_type": "code",
   "execution_count": 398,
   "metadata": {},
   "outputs": [
    {
     "data": {
      "text/latex": [
       "$\\displaystyle 6.186$"
      ],
      "text/plain": [
       "6.186"
      ]
     },
     "execution_count": 398,
     "metadata": {},
     "output_type": "execute_result"
    }
   ],
   "source": [
    "35/sp_rad2.subs({sp_rad_sym: sp_rad}).evalf(4)/2"
   ]
  }
 ],
 "metadata": {
  "kernelspec": {
   "display_name": "Python 3",
   "language": "python",
   "name": "python3"
  },
  "language_info": {
   "codemirror_mode": {
    "name": "ipython",
    "version": 3
   },
   "file_extension": ".py",
   "mimetype": "text/x-python",
   "name": "python",
   "nbconvert_exporter": "python",
   "pygments_lexer": "ipython3",
   "version": "undefined.undefined.undefined"
  }
 },
 "nbformat": 4,
 "nbformat_minor": 2
}
